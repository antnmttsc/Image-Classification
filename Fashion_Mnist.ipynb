{
  "nbformat": 4,
  "nbformat_minor": 0,
  "metadata": {
    "colab": {
      "provenance": [],
      "collapsed_sections": [
        "26WO0ICEsZCS",
        "SGuwGO3Os6eP",
        "Buwz1isg2WYv",
        "eRA5-lEs0_QX",
        "HE5qMBsOjqUs",
        "aCYW-a2fFDYL",
        "vS74H-aYhMAG",
        "L91BYNiv3a9f"
      ],
      "include_colab_link": true
    },
    "kernelspec": {
      "name": "python3",
      "display_name": "Python 3"
    },
    "language_info": {
      "name": "python"
    }
  },
  "cells": [
    {
      "cell_type": "markdown",
      "metadata": {
        "id": "view-in-github",
        "colab_type": "text"
      },
      "source": [
        "<a href=\"https://colab.research.google.com/github/antnmttsc/Image-Classification/blob/main/Fashion_Mnist.ipynb\" target=\"_parent\"><img src=\"https://colab.research.google.com/assets/colab-badge.svg\" alt=\"Open In Colab\"/></a>"
      ]
    },
    {
      "cell_type": "markdown",
      "source": [
        "# Brief Exploratory Analysis"
      ],
      "metadata": {
        "id": "26WO0ICEsZCS"
      }
    },
    {
      "cell_type": "code",
      "source": [
        "import numpy as np\n",
        "from urllib.request import urlopen\n",
        "import matplotlib.pyplot as plt\n",
        "from sklearn.metrics import accuracy_score\n",
        "import time\n",
        "from sklearn.metrics import confusion_matrix, ConfusionMatrixDisplay\n",
        "from sklearn.linear_model import LogisticRegression\n",
        "from sklearn.linear_model import Perceptron\n",
        "from joblib import dump, load\n",
        "from sklearn.preprocessing import StandardScaler\n",
        "from sklearn.svm import SVC\n",
        "from sklearn import tree\n",
        "from keras.utils import to_categorical\n",
        "from keras.models import Sequential\n",
        "from keras.layers import Dense\n",
        "import tensorflow as tf\n",
        "from keras.callbacks import EarlyStopping\n",
        "from sklearn.neighbors import KNeighborsClassifier"
      ],
      "metadata": {
        "id": "NQ3viJ969vWC"
      },
      "execution_count": null,
      "outputs": []
    },
    {
      "cell_type": "markdown",
      "source": [
        " I made a function below to ease the process of loading the dataset."
      ],
      "metadata": {
        "id": "rWJoMor8RNwh"
      }
    },
    {
      "cell_type": "code",
      "metadata": {
        "id": "490C2OoPs4PX"
      },
      "source": [
        "def load_fashion_mnist():\n",
        "\n",
        "    url_base = \"https://www.math.unipd.it/~dasan/\"\n",
        "    Y_train = np.frombuffer(urlopen(url_base + \"train-labels-idx1-ubyte\").read(), dtype=np.uint8, offset=8)\n",
        "    X_train = np.frombuffer(urlopen(url_base + \"train-images-idx3-ubyte\").read(), dtype=np.uint8, offset=16).reshape(len(Y_train), 784) # besides loadng\n",
        "                                                                                            #the data, I already flatten it into a vector\n",
        "    Y_test = np.frombuffer(urlopen(url_base + \"t10k-labels-idx1-ubyte\").read(), dtype=np.uint8, offset=8)\n",
        "    X_test = np.frombuffer(urlopen(url_base + \"t10k-images-idx3-ubyte\").read(), dtype=np.uint8, offset=16).reshape(len(Y_test), 784)\n",
        "\n",
        "    return X_train, Y_train, X_test, Y_test\n"
      ],
      "execution_count": null,
      "outputs": []
    },
    {
      "cell_type": "code",
      "metadata": {
        "colab": {
          "base_uri": "https://localhost:8080/"
        },
        "id": "CPzMfoAKxhxQ",
        "outputId": "b7484ce4-ec4d-47ab-cc35-36af72320b12"
      },
      "source": [
        "X_train, Y_train, X_test, Y_test = load_fashion_mnist() # you can use this function (copying the whole box) in your code to easily load the data\n",
        "print(X_train.shape, Y_train.shape, X_test.shape, Y_test.shape)\n",
        "\n",
        "np.random.seed(123)"
      ],
      "execution_count": null,
      "outputs": [
        {
          "output_type": "stream",
          "name": "stdout",
          "text": [
            "(60000, 784) (60000,) (10000, 784) (10000,)\n"
          ]
        }
      ]
    },
    {
      "cell_type": "markdown",
      "source": [
        "Plot some training exemples to see the encoding get well"
      ],
      "metadata": {
        "id": "_KKRh7ac0kGr"
      }
    },
    {
      "cell_type": "code",
      "source": [
        "fig, axes = plt.subplots(nrows=2, ncols=5, figsize=(18, 8))\n",
        "\n",
        "idx_vec = []\n",
        "for val in range(0, 10):\n",
        "    for idx, target in enumerate(Y_train):\n",
        "        if target == val:\n",
        "            idx_vec.append(idx)\n",
        "            break\n",
        "\n",
        "for ax, image, label in zip(axes.flatten(), X_train[idx_vec], Y_train[idx_vec]):\n",
        "    ax.axis('off')  # Turn off axis\n",
        "    image = image.reshape((28, 28))\n",
        "    ax.imshow(image, cmap=plt.cm.gray_r, interpolation=\"nearest\")\n",
        "    ax.set_title(\"Training: %i\" % label)\n",
        "\n",
        "plt.show()"
      ],
      "metadata": {
        "colab": {
          "base_uri": "https://localhost:8080/",
          "height": 577
        },
        "id": "-6G7m0MEBrrA",
        "outputId": "fccedc9f-5369-479f-9734-b6c550ba803a"
      },
      "execution_count": null,
      "outputs": [
        {
          "output_type": "display_data",
          "data": {
            "text/plain": [
              "<Figure size 1800x800 with 10 Axes>"
            ],
            "image/png": "[encoded data removed]"
          },
          "metadata": {}
        }
      ]
    },
    {
      "cell_type": "code",
      "source": [
        "single_val, count_ = np.unique(Y_train, return_counts=True)\n",
        "for valore, cont in zip(single_val, count_):\n",
        "    print(f\"{valore} appear {cont} times.\")"
      ],
      "metadata": {
        "colab": {
          "base_uri": "https://localhost:8080/"
        },
        "id": "sJicCp3n-y9G",
        "outputId": "8bf3e408-fa26-42e8-d7f6-f5efeec80200"
      },
      "execution_count": null,
      "outputs": [
        {
          "output_type": "stream",
          "name": "stdout",
          "text": [
            "0 appear 6000 times.\n",
            "1 appear 6000 times.\n",
            "2 appear 6000 times.\n",
            "3 appear 6000 times.\n",
            "4 appear 6000 times.\n",
            "5 appear 6000 times.\n",
            "6 appear 6000 times.\n",
            "7 appear 6000 times.\n",
            "8 appear 6000 times.\n",
            "9 appear 6000 times.\n"
          ]
        }
      ]
    },
    {
      "cell_type": "markdown",
      "source": [
        "Balanced Data"
      ],
      "metadata": {
        "id": "1ji3qSs6tYs3"
      }
    },
    {
      "cell_type": "markdown",
      "source": [
        "# Utilies Functions for Model Evaluation and Performance Comparison"
      ],
      "metadata": {
        "id": "SGuwGO3Os6eP"
      }
    },
    {
      "cell_type": "code",
      "source": [
        "evaluate_model = {}\n",
        "\n",
        "def evaluate_my_model(my_model, name, scale_data):\n",
        "  if scale_data:\n",
        "\n",
        "    Y_train_pred = my_model.predict(X_train_scaled)\n",
        "\n",
        "    start_pred_time = time.time()\n",
        "    Y_test_pred = my_model.predict(X_test_scaled)\n",
        "    end_pred_time = time.time()\n",
        "\n",
        "    my_model_name = name +\"_std\"\n",
        "\n",
        "  if not scale_data:\n",
        "\n",
        "    Y_train_pred = my_model.predict(X_train)\n",
        "\n",
        "    start_pred_time = time.time()\n",
        "    Y_test_pred = my_model.predict(X_test)\n",
        "    end_pred_time = time.time()\n",
        "\n",
        "    my_model_name = name\n",
        "\n",
        "  training_time = end_time - start_time\n",
        "  pred_time = end_pred_time - start_pred_time\n",
        "\n",
        "  evaluate_model[my_model_name] = {}\n",
        "\n",
        "  evaluate_model[my_model_name]['accuracy_train'] = float(\"{:.5f}\".format(accuracy_score(Y_train, Y_train_pred)))\n",
        "  evaluate_model[my_model_name]['accuracy_test'] = float(\"{:.5f}\".format(accuracy_score(Y_test, Y_test_pred)))\n",
        "\n",
        "  evaluate_model[my_model_name]['tr_time'] = float(\"{:.5f}\".format(training_time))\n",
        "  evaluate_model[my_model_name]['test_pred_time'] = float(\"{:.5f}\".format(pred_time))\n",
        "\n",
        "  return evaluate_model"
      ],
      "metadata": {
        "id": "LsteBPE4c62x"
      },
      "execution_count": null,
      "outputs": []
    },
    {
      "cell_type": "code",
      "source": [
        "# SCALING DATA\n",
        "scaler = StandardScaler()\n",
        "scaler.fit(X_train)\n",
        "\n",
        "X_train_scaled = scaler.transform(X_train)\n",
        "X_test_scaled = scaler.transform(X_test)"
      ],
      "metadata": {
        "id": "CSdhBLg5AqGK"
      },
      "execution_count": null,
      "outputs": []
    },
    {
      "cell_type": "markdown",
      "source": [
        "# PERCEPTRON"
      ],
      "metadata": {
        "id": "Buwz1isg2WYv"
      }
    },
    {
      "cell_type": "markdown",
      "source": [
        "PERCEPTRON STD"
      ],
      "metadata": {
        "id": "_araFu4ni-1y"
      }
    },
    {
      "cell_type": "code",
      "source": [
        "perc_std = Perceptron(fit_intercept = True)  #define the model\n",
        "\n",
        "start_time = time.time()\n",
        "perc_std.fit(X_train_scaled, Y_train)  # train phase\n",
        "end_time = time.time()"
      ],
      "metadata": {
        "id": "BCEW0Vt3ivo9"
      },
      "execution_count": null,
      "outputs": []
    },
    {
      "cell_type": "code",
      "source": [
        "evaluate_my_model(perc_std, \"perceptron\", True)"
      ],
      "metadata": {
        "colab": {
          "base_uri": "https://localhost:8080/"
        },
        "id": "2qbaYluMjqZX",
        "outputId": "dc08d8db-5b0e-49a8-be0e-82ae09ef3684"
      },
      "execution_count": null,
      "outputs": [
        {
          "output_type": "execute_result",
          "data": {
            "text/plain": [
              "{'perceptron': {'accuracy_train': 0.802,\n",
              "  'accuracy_test': 0.7775,\n",
              "  'tr_time': 16.52988,\n",
              "  'test_pred_time': 0.04418},\n",
              " 'svm_std': {'accuracy_train': 0.66078,\n",
              "  'accuracy_test': 0.6469,\n",
              "  'tr_time': 103.48861,\n",
              "  'test_pred_time': 40.20065},\n",
              " 'perceptron_std': {'accuracy_train': 0.82322,\n",
              "  'accuracy_test': 0.8,\n",
              "  'tr_time': 19.66905,\n",
              "  'test_pred_time': 0.10349}}"
            ]
          },
          "metadata": {},
          "execution_count": 25
        }
      ]
    },
    {
      "cell_type": "markdown",
      "source": [
        "# LOGISTIC REGRESSION"
      ],
      "metadata": {
        "id": "eRA5-lEs0_QX"
      }
    },
    {
      "cell_type": "code",
      "source": [
        "clf_lr = LogisticRegression(max_iter = 200)\n",
        "\n",
        "start_time = time.time()\n",
        "\n",
        "clf_lr.fit(X_train_scaled, Y_train)\n",
        "\n",
        "end_time = time.time()"
      ],
      "metadata": {
        "id": "0bSva53809DM",
        "colab": {
          "base_uri": "https://localhost:8080/"
        },
        "outputId": "90cdb1ca-365b-4e9a-b5b2-a3e85364d9b7"
      },
      "execution_count": null,
      "outputs": [
        {
          "output_type": "stream",
          "name": "stderr",
          "text": [
            "/usr/local/lib/python3.10/dist-packages/sklearn/linear_model/_logistic.py:458: ConvergenceWarning: lbfgs failed to converge (status=1):\n",
            "STOP: TOTAL NO. of ITERATIONS REACHED LIMIT.\n",
            "\n",
            "Increase the number of iterations (max_iter) or scale the data as shown in:\n",
            "    https://scikit-learn.org/stable/modules/preprocessing.html\n",
            "Please also refer to the documentation for alternative solver options:\n",
            "    https://scikit-learn.org/stable/modules/linear_model.html#logistic-regression\n",
            "  n_iter_i = _check_optimize_result(\n"
          ]
        }
      ]
    },
    {
      "cell_type": "code",
      "source": [
        "evaluate_my_model(clf_lr, \"lr\", True)"
      ],
      "metadata": {
        "colab": {
          "base_uri": "https://localhost:8080/"
        },
        "outputId": "17f2b9b2-f8a6-443f-ccf4-47ddb34d653a",
        "id": "N6zaJv4miSDx"
      },
      "execution_count": null,
      "outputs": [
        {
          "output_type": "execute_result",
          "data": {
            "text/plain": [
              "{'perceptron': {'accuracy_train': 0.802,\n",
              "  'accuracy_test': 0.7775,\n",
              "  'tr_time': 16.52988,\n",
              "  'test_pred_time': 0.04418},\n",
              " 'svm_std': {'accuracy_train': 0.66078,\n",
              "  'accuracy_test': 0.6469,\n",
              "  'tr_time': 103.48861,\n",
              "  'test_pred_time': 40.20065},\n",
              " 'perceptron_std': {'accuracy_train': 0.82322,\n",
              "  'accuracy_test': 0.8,\n",
              "  'tr_time': 19.66905,\n",
              "  'test_pred_time': 0.10349},\n",
              " 'lr_std': {'accuracy_train': 0.88153,\n",
              "  'accuracy_test': 0.8371,\n",
              "  'tr_time': 75.0469,\n",
              "  'test_pred_time': 0.04479}}"
            ]
          },
          "metadata": {},
          "execution_count": 28
        }
      ]
    },
    {
      "cell_type": "markdown",
      "source": [
        "# SVM"
      ],
      "metadata": {
        "id": "HE5qMBsOjqUs"
      }
    },
    {
      "cell_type": "code",
      "source": [
        "svm_clf = SVC(kernel = 'poly', degree = 3, coef0 = 1, max_iter = 200, random_state = 42)\n",
        "\n",
        "start_time = time.time()\n",
        "svm_clf.fit(X_train_scaled, Y_train)\n",
        "end_time = time.time()"
      ],
      "metadata": {
        "colab": {
          "base_uri": "https://localhost:8080/"
        },
        "id": "NIY03vZbkAI2",
        "outputId": "7112d79d-1e80-4ec0-f38f-06db02fe4ba4"
      },
      "execution_count": null,
      "outputs": [
        {
          "output_type": "stream",
          "name": "stderr",
          "text": [
            "/usr/local/lib/python3.10/dist-packages/sklearn/svm/_base.py:299: ConvergenceWarning: Solver terminated early (max_iter=200).  Consider pre-processing your data with StandardScaler or MinMaxScaler.\n",
            "  warnings.warn(\n"
          ]
        }
      ]
    },
    {
      "cell_type": "code",
      "source": [
        "evaluate_my_model(svm_clf,\"svm\", True)"
      ],
      "metadata": {
        "colab": {
          "base_uri": "https://localhost:8080/"
        },
        "id": "5te37TzA_3f_",
        "outputId": "09f4c31e-2c0b-4235-f39b-1b3960fcf8e0"
      },
      "execution_count": null,
      "outputs": [
        {
          "output_type": "execute_result",
          "data": {
            "text/plain": [
              "{'perceptron': {'accuracy_train': 0.802,\n",
              "  'accuracy_test': 0.7775,\n",
              "  'tr_time': 21.31968,\n",
              "  'test_pred_time': 0.07142},\n",
              " 'svm_std': {'accuracy_train': 0.66078,\n",
              "  'accuracy_test': 0.6469,\n",
              "  'tr_time': 103.48861,\n",
              "  'test_pred_time': 40.20065}}"
            ]
          },
          "metadata": {},
          "execution_count": 20
        }
      ]
    },
    {
      "cell_type": "markdown",
      "source": [
        "# TREE"
      ],
      "metadata": {
        "id": "aCYW-a2fFDYL"
      }
    },
    {
      "cell_type": "code",
      "source": [
        "tree_clf = tree.DecisionTreeClassifier(criterion = 'entropy', min_samples_leaf = 20, random_state = 42)\n",
        "\n",
        "start_time = time.time()\n",
        "tree_clf.fit(X_train_scaled, Y_train)\n",
        "end_time = time.time()"
      ],
      "metadata": {
        "id": "7YgC0M1IFHQF"
      },
      "execution_count": null,
      "outputs": []
    },
    {
      "cell_type": "code",
      "source": [
        "evaluate_my_model(tree_clf, \"tree\", True)"
      ],
      "metadata": {
        "id": "QOuYvUcZF-CZ",
        "colab": {
          "base_uri": "https://localhost:8080/"
        },
        "outputId": "0bb81cd4-ff00-4546-c1ce-712841b3e55a"
      },
      "execution_count": null,
      "outputs": [
        {
          "output_type": "execute_result",
          "data": {
            "text/plain": [
              "{'perceptron': {'accuracy_train': 0.802,\n",
              "  'accuracy_test': 0.7775,\n",
              "  'tr_time': 16.52988,\n",
              "  'test_pred_time': 0.04418},\n",
              " 'svm_std': {'accuracy_train': 0.66078,\n",
              "  'accuracy_test': 0.6469,\n",
              "  'tr_time': 103.48861,\n",
              "  'test_pred_time': 40.20065},\n",
              " 'perceptron_std': {'accuracy_train': 0.82322,\n",
              "  'accuracy_test': 0.8,\n",
              "  'tr_time': 19.66905,\n",
              "  'test_pred_time': 0.10349},\n",
              " 'lr_std': {'accuracy_train': 0.88153,\n",
              "  'accuracy_test': 0.8371,\n",
              "  'tr_time': 75.0469,\n",
              "  'test_pred_time': 0.04479},\n",
              " 'tree_std': {'accuracy_train': 0.87942,\n",
              "  'accuracy_test': 0.8096,\n",
              "  'tr_time': 35.45064,\n",
              "  'test_pred_time': 0.02992}}"
            ]
          },
          "metadata": {},
          "execution_count": 32
        }
      ]
    },
    {
      "cell_type": "markdown",
      "source": [
        "# NEURAL NETWORK"
      ],
      "metadata": {
        "id": "vS74H-aYhMAG"
      }
    },
    {
      "cell_type": "code",
      "source": [
        "num_classes = len(np.unique(Y_train))\n",
        "\n",
        "Y_train_cat = to_categorical(Y_train, num_classes)\n",
        "Y_test_cat = to_categorical(Y_test, num_classes)"
      ],
      "metadata": {
        "id": "KAsLDKPlhQ8L"
      },
      "execution_count": null,
      "outputs": []
    },
    {
      "cell_type": "code",
      "source": [
        "#fix the seed\n",
        "tf.random.set_seed(2)\n",
        "tf.keras.utils.set_random_seed(10)\n",
        "# set tensorflow as detrministic\n",
        "tf.config.experimental.enable_op_determinism()\n",
        "\n",
        "feature_vector_length = X_train_scaled.shape[1]\n",
        "units_dim = X_train_scaled.shape[0]"
      ],
      "metadata": {
        "id": "8HYLr9yzhaxd"
      },
      "execution_count": null,
      "outputs": []
    },
    {
      "cell_type": "code",
      "source": [
        "nn_model = Sequential([Dense(units = units_dim,\n",
        "                             activation='relu',\n",
        "                             input_dim = feature_vector_length),\n",
        "                    Dense(units = np.sqrt(units_dim),\n",
        "                          activation='relu'),\n",
        "                    Dense(num_classes,\n",
        "                          activation='softmax')])\n",
        "nn_model.compile(loss='categorical_crossentropy', optimizer=\"sgd\", metrics=['accuracy'])\n",
        "\n",
        "es = EarlyStopping(monitor = 'val_loss', #quantity to be monitored\n",
        "                   mode = 'min', #I look for decreasing patterns stop\n",
        "                   patience = 3, #number of epochs with no improvement\n",
        "                   verbose = 0)"
      ],
      "metadata": {
        "id": "Uwf_vCy4irDK"
      },
      "execution_count": null,
      "outputs": []
    },
    {
      "cell_type": "code",
      "source": [
        "perc = load('/content/perc_model.sav')"
      ],
      "metadata": {
        "id": "1ZsD2P49PdcX"
      },
      "execution_count": null,
      "outputs": []
    },
    {
      "cell_type": "code",
      "source": [
        "# train the model\n",
        "start_time = time.time()\n",
        "history = nn_model.fit(X_train_scaled, Y_train_cat,\n",
        "                    epochs = 200, # number of epochs\n",
        "                    verbose = 0,\n",
        "                    validation_split = 0.20,\n",
        "                    callbacks = [es],\n",
        "                    shuffle = False)\n",
        "end_time = time.time()\n",
        "training_time = end_time - start_time"
      ],
      "metadata": {
        "id": "Efe_6yfOjXx2"
      },
      "execution_count": null,
      "outputs": []
    },
    {
      "cell_type": "code",
      "source": [
        "start_time = time.time()\n",
        "accuracy_nn = nn_model.evaluate(X_test_scaled, Y_test_cat)[1]\n",
        "end_time = time.time()\n",
        "\n",
        "pred_time = end_time - start_time\n",
        "\n",
        "train_accuracy = history.history['accuracy'][-1]"
      ],
      "metadata": {
        "colab": {
          "base_uri": "https://localhost:8080/"
        },
        "id": "_8kHrgza1oiC",
        "outputId": "639b4343-896f-4a19-b7ec-1b259c2a6e53"
      },
      "execution_count": null,
      "outputs": [
        {
          "output_type": "stream",
          "name": "stdout",
          "text": [
            "313/313 [==============================] - 54s 172ms/step - loss: 0.3411 - accuracy: 0.8881\n"
          ]
        },
        {
          "output_type": "execute_result",
          "data": {
            "text/plain": [
              "82.25792860984802"
            ]
          },
          "metadata": {},
          "execution_count": 38
        }
      ]
    },
    {
      "cell_type": "code",
      "source": [
        "nn_model.evaluate(X_train_scaled, Y_train_cat)[1]"
      ],
      "metadata": {
        "colab": {
          "base_uri": "https://localhost:8080/"
        },
        "id": "QMArpU9ZhUgo",
        "outputId": "d55e00e1-eee9-4ddd-8bf0-42d0468a1024"
      },
      "execution_count": null,
      "outputs": [
        {
          "output_type": "stream",
          "name": "stdout",
          "text": [
            "1875/1875 [==============================] - 248s 132ms/step - loss: 0.1601 - accuracy: 0.9462\n"
          ]
        },
        {
          "output_type": "execute_result",
          "data": {
            "text/plain": [
              "0.9462000131607056"
            ]
          },
          "metadata": {},
          "execution_count": 39
        }
      ]
    },
    {
      "cell_type": "code",
      "source": [
        "evaluate_model[\"nn_std\"] = {'accuracy_train' :  train_accuracy,\n",
        "                            'accuracy_test': accuracy_nn,\n",
        "                            'tr_time': training_time,\n",
        "                            'test_pred_time': pre_time}"
      ],
      "metadata": {
        "id": "yA1kv7m8MWkZ"
      },
      "execution_count": null,
      "outputs": []
    },
    {
      "cell_type": "markdown",
      "source": [
        "# KNN"
      ],
      "metadata": {
        "id": "L91BYNiv3a9f"
      }
    },
    {
      "cell_type": "code",
      "source": [
        "num_classes = len(np.unique(Y_train))\n",
        "neigh = KNeighborsClassifier(n_neighbors = num_classes)"
      ],
      "metadata": {
        "id": "z7SMjIJL3alM"
      },
      "execution_count": null,
      "outputs": []
    },
    {
      "cell_type": "code",
      "source": [
        "neigh.fit(X_train, Y_train)"
      ],
      "metadata": {
        "colab": {
          "base_uri": "https://localhost:8080/",
          "height": 74
        },
        "id": "atjbh-EY32R3",
        "outputId": "399eedd1-6fbc-4884-ae25-7fadc5298a52"
      },
      "execution_count": null,
      "outputs": [
        {
          "output_type": "execute_result",
          "data": {
            "text/plain": [
              "KNeighborsClassifier(n_neighbors=10)"
            ],
            "text/html": [
              "<style>#sk-container-id-2 {color: black;background-color: white;}#sk-container-id-2 pre{padding: 0;}#sk-container-id-2 div.sk-toggleable {background-color: white;}#sk-container-id-2 label.sk-toggleable__label {cursor: pointer;display: block;width: 100%;margin-bottom: 0;padding: 0.3em;box-sizing: border-box;text-align: center;}#sk-container-id-2 label.sk-toggleable__label-arrow:before {content: \"▸\";float: left;margin-right: 0.25em;color: #696969;}#sk-container-id-2 label.sk-toggleable__label-arrow:hover:before {color: black;}#sk-container-id-2 div.sk-estimator:hover label.sk-toggleable__label-arrow:before {color: black;}#sk-container-id-2 div.sk-toggleable__content {max-height: 0;max-width: 0;overflow: hidden;text-align: left;background-color: #f0f8ff;}#sk-container-id-2 div.sk-toggleable__content pre {margin: 0.2em;color: black;border-radius: 0.25em;background-color: #f0f8ff;}#sk-container-id-2 input.sk-toggleable__control:checked~div.sk-toggleable__content {max-height: 200px;max-width: 100%;overflow: auto;}#sk-container-id-2 input.sk-toggleable__control:checked~label.sk-toggleable__label-arrow:before {content: \"▾\";}#sk-container-id-2 div.sk-estimator input.sk-toggleable__control:checked~label.sk-toggleable__label {background-color: #d4ebff;}#sk-container-id-2 div.sk-label input.sk-toggleable__control:checked~label.sk-toggleable__label {background-color: #d4ebff;}#sk-container-id-2 input.sk-hidden--visually {border: 0;clip: rect(1px 1px 1px 1px);clip: rect(1px, 1px, 1px, 1px);height: 1px;margin: -1px;overflow: hidden;padding: 0;position: absolute;width: 1px;}#sk-container-id-2 div.sk-estimator {font-family: monospace;background-color: #f0f8ff;border: 1px dotted black;border-radius: 0.25em;box-sizing: border-box;margin-bottom: 0.5em;}#sk-container-id-2 div.sk-estimator:hover {background-color: #d4ebff;}#sk-container-id-2 div.sk-parallel-item::after {content: \"\";width: 100%;border-bottom: 1px solid gray;flex-grow: 1;}#sk-container-id-2 div.sk-label:hover label.sk-toggleable__label {background-color: #d4ebff;}#sk-container-id-2 div.sk-serial::before {content: \"\";position: absolute;border-left: 1px solid gray;box-sizing: border-box;top: 0;bottom: 0;left: 50%;z-index: 0;}#sk-container-id-2 div.sk-serial {display: flex;flex-direction: column;align-items: center;background-color: white;padding-right: 0.2em;padding-left: 0.2em;position: relative;}#sk-container-id-2 div.sk-item {position: relative;z-index: 1;}#sk-container-id-2 div.sk-parallel {display: flex;align-items: stretch;justify-content: center;background-color: white;position: relative;}#sk-container-id-2 div.sk-item::before, #sk-container-id-2 div.sk-parallel-item::before {content: \"\";position: absolute;border-left: 1px solid gray;box-sizing: border-box;top: 0;bottom: 0;left: 50%;z-index: -1;}#sk-container-id-2 div.sk-parallel-item {display: flex;flex-direction: column;z-index: 1;position: relative;background-color: white;}#sk-container-id-2 div.sk-parallel-item:first-child::after {align-self: flex-end;width: 50%;}#sk-container-id-2 div.sk-parallel-item:last-child::after {align-self: flex-start;width: 50%;}#sk-container-id-2 div.sk-parallel-item:only-child::after {width: 0;}#sk-container-id-2 div.sk-dashed-wrapped {border: 1px dashed gray;margin: 0 0.4em 0.5em 0.4em;box-sizing: border-box;padding-bottom: 0.4em;background-color: white;}#sk-container-id-2 div.sk-label label {font-family: monospace;font-weight: bold;display: inline-block;line-height: 1.2em;}#sk-container-id-2 div.sk-label-container {text-align: center;}#sk-container-id-2 div.sk-container {/* jupyter's `normalize.less` sets `[hidden] { display: none; }` but bootstrap.min.css set `[hidden] { display: none !important; }` so we also need the `!important` here to be able to override the default hidden behavior on the sphinx rendered scikit-learn.org. See: https://github.com/scikit-learn/scikit-learn/issues/21755 */display: inline-block !important;position: relative;}#sk-container-id-2 div.sk-text-repr-fallback {display: none;}</style><div id=\"sk-container-id-2\" class=\"sk-top-container\"><div class=\"sk-text-repr-fallback\"><pre>KNeighborsClassifier(n_neighbors=10)</pre><b>In a Jupyter environment, please rerun this cell to show the HTML representation or trust the notebook. <br />On GitHub, the HTML representation is unable to render, please try loading this page with nbviewer.org.</b></div><div class=\"sk-container\" hidden><div class=\"sk-item\"><div class=\"sk-estimator sk-toggleable\"><input class=\"sk-toggleable__control sk-hidden--visually\" id=\"sk-estimator-id-2\" type=\"checkbox\" checked><label for=\"sk-estimator-id-2\" class=\"sk-toggleable__label sk-toggleable__label-arrow\">KNeighborsClassifier</label><div class=\"sk-toggleable__content\"><pre>KNeighborsClassifier(n_neighbors=10)</pre></div></div></div></div></div>"
            ]
          },
          "metadata": {},
          "execution_count": 48
        }
      ]
    },
    {
      "cell_type": "code",
      "source": [
        "# Predict on the test set\n",
        "Y_pred = neigh.predict(X_test)\n",
        "\n",
        "accuracy_knn = accuracy_score(Y_test, Y_pred)"
      ],
      "metadata": {
        "id": "sTEQ1i9P4Q1t"
      },
      "execution_count": null,
      "outputs": []
    },
    {
      "cell_type": "code",
      "source": [
        "print(f\"ACCURACY KNN: %.5f\"%accuracy_knn)"
      ],
      "metadata": {
        "colab": {
          "base_uri": "https://localhost:8080/"
        },
        "id": "7dhW8DXL4kfh",
        "outputId": "c4fefbf5-9d30-4cbf-e11c-d45105b5d812"
      },
      "execution_count": null,
      "outputs": [
        {
          "output_type": "stream",
          "name": "stdout",
          "text": [
            "ACCURACY KNN: 0.85150\n"
          ]
        }
      ]
    },
    {
      "cell_type": "markdown",
      "source": [
        "**TELESCOPIC SEARCH** for hyperparameter search"
      ],
      "metadata": {
        "id": "JZL5Hlq0nvKh"
      }
    },
    {
      "cell_type": "code",
      "source": [
        "c_values = [5,10,20,50,100]\n",
        "\n",
        "best_accuracy = 0\n",
        "best_c = 0\n",
        "best_model = None\n",
        "\n",
        "for c in c_values:\n",
        "\n",
        "    neigh = KNeighborsClassifier(n_neighbors = c)\n",
        "    neigh.fit(X_train, Y_train)\n",
        "    Y_pred = neigh.predict(X_test)\n",
        "    accuracy_knn = accuracy_score(Y_test, Y_pred)\n",
        "\n",
        "    if accuracy_knn > best_accuracy:\n",
        "      best_accuracy = accuracy_knn\n",
        "      best_c = c\n",
        "      best_model = neigh\n"
      ],
      "metadata": {
        "id": "aXhfuicF5KfF"
      },
      "execution_count": null,
      "outputs": []
    },
    {
      "cell_type": "code",
      "source": [
        "print(\"Best C: %i \\nBest Accuracy: %.5f\"%(best_c, best_accuracy))"
      ],
      "metadata": {
        "colab": {
          "base_uri": "https://localhost:8080/"
        },
        "id": "8WpUdSbt71O6",
        "outputId": "12fc9f9e-0d6a-4db3-dd7d-e24ceed107ca"
      },
      "execution_count": null,
      "outputs": [
        {
          "output_type": "stream",
          "name": "stdout",
          "text": [
            "Best C: 5 \n",
            "Best Accuracy: 0.85540\n"
          ]
        }
      ]
    },
    {
      "cell_type": "code",
      "source": [
        "c_values_f = [4,7,9]\n",
        "\n",
        "best_accuracy_f = 0\n",
        "best_c_f = 0\n",
        "best_model_f = None\n",
        "\n",
        "for c in c_values_f:\n",
        "\n",
        "    neigh = KNeighborsClassifier(n_neighbors = c)\n",
        "    neigh.fit(X_train, Y_train)\n",
        "    Y_pred = neigh.predict(X_test)\n",
        "    accuracy_knn = accuracy_score(Y_test, Y_pred)\n",
        "\n",
        "    if accuracy_knn > best_accuracy_f:\n",
        "      best_accuracy_f = accuracy_knn\n",
        "      best_c_f = c\n",
        "      best_model_f = neigh\n",
        "\n",
        "print(\"Best C: %i \\nBest Accuracy: %.5f\"%(best_c_f, best_accuracy_f))"
      ],
      "metadata": {
        "colab": {
          "base_uri": "https://localhost:8080/"
        },
        "id": "2C_LFxVj7dNu",
        "outputId": "0a07fc6e-7d22-4b66-bfdb-ef524ddbdb94"
      },
      "execution_count": null,
      "outputs": [
        {
          "output_type": "stream",
          "name": "stdout",
          "text": [
            "Best C: 4 \n",
            "Best Accuracy: 0.85770\n"
          ]
        }
      ]
    },
    {
      "cell_type": "code",
      "source": [
        "neigh = KNeighborsClassifier(n_neighbors = best_c_f)\n",
        "\n",
        "start_time = time.time()\n",
        "neigh.fit(X_train, Y_train)\n",
        "end_time = time.time()\n",
        "\n",
        "evaluate_my_model(best_model_f, \"knn\", False)"
      ],
      "metadata": {
        "id": "6cIAWvTA9MMM",
        "colab": {
          "base_uri": "https://localhost:8080/"
        },
        "outputId": "bec09c8d-89bb-4b19-e567-2b6a0fa96dd4"
      },
      "execution_count": null,
      "outputs": [
        {
          "output_type": "execute_result",
          "data": {
            "text/plain": [
              "{'perceptron': {'accuracy_train': 0.802,\n",
              "  'accuracy_test': 0.7775,\n",
              "  'tr_time': 16.52988,\n",
              "  'test_pred_time': 0.04418},\n",
              " 'svm_std': {'accuracy_train': 0.66078,\n",
              "  'accuracy_test': 0.6469,\n",
              "  'tr_time': 103.48861,\n",
              "  'test_pred_time': 40.20065},\n",
              " 'perceptron_std': {'accuracy_train': 0.82322,\n",
              "  'accuracy_test': 0.8,\n",
              "  'tr_time': 19.66905,\n",
              "  'test_pred_time': 0.10349},\n",
              " 'lr_std': {'accuracy_train': 0.88153,\n",
              "  'accuracy_test': 0.8371,\n",
              "  'tr_time': 75.0469,\n",
              "  'test_pred_time': 0.04479},\n",
              " 'tree_std': {'accuracy_train': 0.87942,\n",
              "  'accuracy_test': 0.8096,\n",
              "  'tr_time': 35.45064,\n",
              "  'test_pred_time': 0.02992},\n",
              " 'nn_std': {'accuracy_train': 0.9462,\n",
              "  'accuracy_test': 0.8881,\n",
              "  'tr_time': 7996.59192,\n",
              "  'test_pred_time': 82.25793},\n",
              " 'knn': {'accuracy_train': 0.90822,\n",
              "  'accuracy_test': 0.8577,\n",
              "  'tr_time': 0.01778,\n",
              "  'test_pred_time': 46.52498}}"
            ]
          },
          "metadata": {},
          "execution_count": 55
        }
      ]
    },
    {
      "cell_type": "markdown",
      "source": [
        "# MODEL COMPARISON\n",
        "\n"
      ],
      "metadata": {
        "id": "kKicYTBjc4t4"
      }
    },
    {
      "cell_type": "code",
      "source": [
        "import json\n",
        "file_path = \"/content/evaluate_model.json\" # !! BE SURE TO INSERT YOUR PERSONAL PATH !!\n",
        "with open(file_path, 'r') as file:\n",
        "    evaluate_model = json.load(file)"
      ],
      "metadata": {
        "id": "ehlYTYpPqzLG"
      },
      "execution_count": null,
      "outputs": []
    },
    {
      "cell_type": "code",
      "source": [
        "import numpy as np\n",
        "import matplotlib.pyplot as plt\n",
        "\n",
        "models = list(evaluate_model.keys())\n",
        "train_accuracy = [evaluate_model[model]['accuracy_train'] for model in models]\n",
        "test_accuracy = [evaluate_model[model]['accuracy_test'] for model in models]\n",
        "\n",
        "sorted_models = [model for _, model in sorted(zip(test_accuracy, models))]\n",
        "sorted_test_accuracy = sorted(test_accuracy)\n",
        "\n",
        "bar_width = 0.4\n",
        "x_train = np.arange(len(models))\n",
        "x_test = [x + bar_width for x in x_train]\n",
        "\n",
        "plt.figure(figsize=(10, 6))\n",
        "bars_train = plt.bar(x_train, train_accuracy, color='b', width=bar_width, alpha=0.5, label='Train Accuracy')\n",
        "bars_test = plt.bar(x_test, sorted_test_accuracy, color='r', width=bar_width, alpha=0.5, label='Test Accuracy')\n",
        "plt.xlabel('Models')\n",
        "plt.ylabel('Accuracy')\n",
        "plt.title('Training and Test Accuracy of Different Models')\n",
        "plt.xticks([x + bar_width / 2 for x in x_train], sorted_models, rotation=45)\n",
        "plt.legend()\n",
        "\n",
        "plt.ylim(0.6, 1)\n",
        "\n",
        "for bar in bars_train + bars_test:\n",
        "    height = bar.get_height()\n",
        "    plt.text(bar.get_x() + bar.get_width()/2., height, '%.2f' % height, ha='center', va='bottom')\n",
        "\n",
        "# Show the plot\n",
        "plt.tight_layout()\n",
        "plt.show()\n"
      ],
      "metadata": {
        "colab": {
          "base_uri": "https://localhost:8080/",
          "height": 607
        },
        "id": "06bYqVYFtgFp",
        "outputId": "b18036db-674a-4ddb-ba77-9d8e2d6749d4"
      },
      "execution_count": null,
      "outputs": [
        {
          "output_type": "display_data",
          "data": {
            "text/plain": [
              "<Figure size 1000x600 with 1 Axes>"
            ],
            "image/png": "[encoded data removed]"
          },
          "metadata": {}
        }
      ]
    },
    {
      "cell_type": "markdown",
      "source": [
        "In the provided results, both training and test accuracy for each model are presented. The Neural Network model trained on standardized data stands out as the most accurate, achieving an accuracy of 0.89 on the test set. This performance is closely followed by the k-Nearest Neighbors (KNN) classifier. However, the Neural Network demonstrates superior generalization ability over the training set compared to KNN.\n",
        "On the other end of the spectrum, the Support Vector Machine (SVM) exhibits the poorest performance with an accuracy of 0.65"
      ],
      "metadata": {
        "id": "ffrDKsbRxNAj"
      }
    },
    {
      "cell_type": "code",
      "source": [
        "train_times = [evaluate_model[model]['tr_time'] for model in models]\n",
        "\n",
        "log_train_times = np.log10(train_times)\n",
        "\n",
        "log_train_times = np.clip(log_train_times, a_min=0, a_max=None)\n",
        "\n",
        "sorted_models = [model for _, model in sorted(zip(log_train_times, models))]\n",
        "sorted_train_times = sorted(log_train_times)\n",
        "\n",
        "plt.figure(figsize=(10, 6))\n",
        "bars = plt.bar(sorted_models, sorted_train_times, color='b', alpha=0.5)\n",
        "plt.xlabel('Models')\n",
        "plt.ylabel('Log Training Time')\n",
        "plt.title('Log Training Time of Different Models')\n",
        "plt.xticks(rotation=45)\n",
        "plt.tight_layout()\n",
        "\n",
        "for bar, log_time in zip(bars, sorted_train_times):\n",
        "    height = bar.get_height()\n",
        "    if log_time == 0:\n",
        "        plt.text(bar.get_x() + bar.get_width()/2., 0, '0', ha='center', va='bottom')\n",
        "    else:\n",
        "        original_time = 10 ** log_time\n",
        "        plt.text(bar.get_x() + bar.get_width()/2., height, '%.2f' % original_time, ha='center', va='bottom')\n",
        "\n",
        "plt.show()"
      ],
      "metadata": {
        "colab": {
          "base_uri": "https://localhost:8080/",
          "height": 607
        },
        "id": "UA7-QoEHuc6J",
        "outputId": "e96630f3-078c-4412-a998-922df4f09a90"
      },
      "execution_count": null,
      "outputs": [
        {
          "output_type": "display_data",
          "data": {
            "text/plain": [
              "<Figure size 1000x600 with 1 Axes>"
            ],
            "image/png": "[encoded data removed]"
          },
          "metadata": {}
        }
      ]
    },
    {
      "cell_type": "markdown",
      "source": [
        "Despite the high performance of the neural network, it's evident from this graph that the training time required is approximately 80 times that of the support vector machine (which ranks second to last in efficiency). The most efficient model is, of course, the k-Nearest Neighbors (KNN) since it doesn't involve a training phase."
      ],
      "metadata": {
        "id": "0Cal2W4Cyv05"
      }
    },
    {
      "cell_type": "code",
      "source": [
        "pred_times = [evaluate_model[model]['test_pred_time'] for model in models]\n",
        "\n",
        "sorted_models = [model for _, model in sorted(zip(pred_times, models))]\n",
        "sorted_pred_times = sorted(pred_times)\n",
        "\n",
        "plt.figure(figsize=(10, 6))\n",
        "bars = plt.bar(sorted_models, sorted_pred_times, color='b', alpha=0.5)\n",
        "plt.xlabel('Models')\n",
        "plt.ylabel('Prediction Time (s)')\n",
        "plt.title('Prediction Time of Different Models')\n",
        "plt.xticks(rotation=45)\n",
        "plt.tight_layout()\n",
        "\n",
        "for bar, time in zip(bars, sorted_pred_times):\n",
        "    height = bar.get_height()\n",
        "    plt.text(bar.get_x() + bar.get_width()/2., height, '%.2f' % time, ha='center', va='bottom')\n",
        "\n",
        "plt.show()"
      ],
      "metadata": {
        "colab": {
          "base_uri": "https://localhost:8080/",
          "height": 607
        },
        "id": "T7_SRRi-wK9j",
        "outputId": "484fe0b7-5f3b-4b70-9d91-ff6e5e8b28d4"
      },
      "execution_count": null,
      "outputs": [
        {
          "output_type": "display_data",
          "data": {
            "text/plain": [
              "<Figure size 1000x600 with 1 Axes>"
            ],
            "image/png": "[encoded data removed]"
          },
          "metadata": {}
        }
      ]
    },
    {
      "cell_type": "markdown",
      "source": [
        "The worst-performing model, considering the time taken to make predictions, is once again the neural network. Contrary to what was observed in the previous graph, k-Nearest Neighbors (KNN) ranks among the worst models for making predictions. In fact, theory suggests that to make predictions, one must calculate the distance of the new observation from all those present in the training set, with a computational complexity of $O(n)$. Lastly, the best-performing model is the decision tree, which we know has a computational complexity in these circumstances equal to $O(log(n))$."
      ],
      "metadata": {
        "id": "xVVcIPSG0e_d"
      }
    }
  ]
}